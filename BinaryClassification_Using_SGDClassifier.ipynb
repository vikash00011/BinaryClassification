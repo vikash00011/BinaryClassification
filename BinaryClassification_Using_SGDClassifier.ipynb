{
  "nbformat": 4,
  "nbformat_minor": 0,
  "metadata": {
    "colab": {
      "name": "BinaryClassification_Using_SGDClassifier.ipynb",
      "provenance": [],
      "collapsed_sections": [],
      "include_colab_link": true
    },
    "kernelspec": {
      "name": "python3",
      "display_name": "Python 3"
    }
  },
  "cells": [
    {
      "cell_type": "markdown",
      "metadata": {
        "id": "view-in-github",
        "colab_type": "text"
      },
      "source": [
        "<a href=\"https://colab.research.google.com/github/vikash00011/BinaryClassification/blob/master/BinaryClassification_Using_SGDClassifier.ipynb\" target=\"_parent\"><img src=\"https://colab.research.google.com/assets/colab-badge.svg\" alt=\"Open In Colab\"/></a>"
      ]
    },
    {
      "cell_type": "code",
      "metadata": {
        "id": "nipGMsw9p6Re",
        "colab_type": "code",
        "colab": {}
      },
      "source": [
        "#importing important modules/liberaries\n",
        "\n",
        "\n",
        "from sklearn.datasets import fetch_openml\n",
        "import numpy as np\n",
        "import matplotlib as mpl\n",
        "import matplotlib.pyplot as plt\n",
        "%matplotlib inline"
      ],
      "execution_count": 0,
      "outputs": []
    },
    {
      "cell_type": "markdown",
      "metadata": {
        "id": "vsxupo2FzVOB",
        "colab_type": "text"
      },
      "source": [
        "Figure 3-1 shows a few more images from the MNIST dataset to give you a feel for\n",
        "the complexity of the classification task.\n",
        "\n",
        "(https://github.com/vikash00011/BinaryClassification/blob/master/Capture2.PNG)\n",
        "\n",
        "Figure 3-1. A few digits from the MNIST dataset"
      ]
    },
    {
      "cell_type": "code",
      "metadata": {
        "id": "6ZBMnZnwqI1-",
        "colab_type": "code",
        "colab": {}
      },
      "source": [
        "mnist = fetch_openml('mnist_784', version=1)    #loading our sample data"
      ],
      "execution_count": 0,
      "outputs": []
    },
    {
      "cell_type": "code",
      "metadata": {
        "id": "_V1PD4O7qI4V",
        "colab_type": "code",
        "colab": {}
      },
      "source": [
        "X, y = mnist[\"data\"], mnist[\"target\"]           #spliting sample data in features(X) and target(y)"
      ],
      "execution_count": 0,
      "outputs": []
    },
    {
      "cell_type": "markdown",
      "metadata": {
        "id": "iwPlUYKtu2Tk",
        "colab_type": "text"
      },
      "source": [
        "Now, we will lookup about the data"
      ]
    },
    {
      "cell_type": "code",
      "metadata": {
        "id": "SKZBw_owqI7J",
        "colab_type": "code",
        "outputId": "a4481fb0-0f84-45bb-fb87-8d63fe7a0a56",
        "colab": {
          "base_uri": "https://localhost:8080/",
          "height": 85
        }
      },
      "source": [
        "print(X.shape)   # 784 because each image is a 28*28 pixels, and each feature \n",
        "                 # simply represents one pixel’s intensity, from 0 (white) to\n",
        "                 # 255 (black) shape is (sample,features(28*28))\n",
        "\n",
        "print(y.shape)   # All are target as 1d np array so shape is (70000,)\n",
        "print(type(y[0]))       # looking the data type of the target\n",
        "print(type(X[0][0]))    # type of X is already in float format"
      ],
      "execution_count": 4,
      "outputs": [
        {
          "output_type": "stream",
          "text": [
            "(70000, 784)\n",
            "(70000,)\n",
            "<class 'str'>\n",
            "<class 'numpy.float64'>\n"
          ],
          "name": "stdout"
        }
      ]
    },
    {
      "cell_type": "code",
      "metadata": {
        "id": "w42qfCX-qI-D",
        "colab_type": "code",
        "outputId": "268e98d3-9ad0-4ffa-e09d-7be55a0b873a",
        "colab": {
          "base_uri": "https://localhost:8080/",
          "height": 34
        }
      },
      "source": [
        "y = y.astype(np.uint8)  #type change from str to int\n",
        "print(type(y[0]))"
      ],
      "execution_count": 5,
      "outputs": [
        {
          "output_type": "stream",
          "text": [
            "<class 'numpy.uint8'>\n"
          ],
          "name": "stdout"
        }
      ]
    },
    {
      "cell_type": "code",
      "metadata": {
        "id": "-67zcKJpqJD3",
        "colab_type": "code",
        "colab": {}
      },
      "source": [
        "X_train, X_test, y_train, y_test = X[:60000], X[60000:], y[:60000], y[60000:]   #splitting the samples in traing and testing"
      ],
      "execution_count": 0,
      "outputs": []
    },
    {
      "cell_type": "code",
      "metadata": {
        "id": "tU3e1CvJqJKN",
        "colab_type": "code",
        "colab": {}
      },
      "source": [
        "from sklearn.linear_model import SGDClassifier\n",
        "\n",
        "sgd_clf = SGDClassifier(random_state=42)  "
      ],
      "execution_count": 0,
      "outputs": []
    },
    {
      "cell_type": "markdown",
      "metadata": {
        "id": "oZ5QxgkLxtz_",
        "colab_type": "text"
      },
      "source": [
        "This classifier has the advantage of being capable of handling very large datasets efficiently.This is in part because SGD deals with training instances independently, one at a time (which also makes SGD well suited for online learning).The SGDClassifier relies on randomness during training (hence the name “stochastic”). If you want reproducible results, you should set the random_state parameter."
      ]
    },
    {
      "cell_type": "code",
      "metadata": {
        "id": "TCbFmG5_qJNA",
        "colab_type": "code",
        "outputId": "01cc7251-d925-4870-9d66-725048bb68a0",
        "colab": {
          "base_uri": "https://localhost:8080/",
          "height": 119
        }
      },
      "source": [
        "sgd_clf.fit(X_train,y_train)      #Training our classifier"
      ],
      "execution_count": 8,
      "outputs": [
        {
          "output_type": "execute_result",
          "data": {
            "text/plain": [
              "SGDClassifier(alpha=0.0001, average=False, class_weight=None,\n",
              "              early_stopping=False, epsilon=0.1, eta0=0.0, fit_intercept=True,\n",
              "              l1_ratio=0.15, learning_rate='optimal', loss='hinge',\n",
              "              max_iter=1000, n_iter_no_change=5, n_jobs=None, penalty='l2',\n",
              "              power_t=0.5, random_state=42, shuffle=True, tol=0.001,\n",
              "              validation_fraction=0.1, verbose=0, warm_start=False)"
            ]
          },
          "metadata": {
            "tags": []
          },
          "execution_count": 8
        }
      ]
    },
    {
      "cell_type": "code",
      "metadata": {
        "id": "2Dx8JX2NqJP9",
        "colab_type": "code",
        "colab": {}
      },
      "source": [
        "some_digit = X[0]\n",
        "some_digit_image = some_digit.reshape(28, 28)"
      ],
      "execution_count": 0,
      "outputs": []
    },
    {
      "cell_type": "code",
      "metadata": {
        "id": "Fya5F9_gqJTI",
        "colab_type": "code",
        "outputId": "6adc86de-cd8f-4a68-a393-677d38e555b5",
        "colab": {
          "base_uri": "https://localhost:8080/",
          "height": 34
        }
      },
      "source": [
        "sgd_clf.predict([some_digit])    # doing prediction"
      ],
      "execution_count": 10,
      "outputs": [
        {
          "output_type": "execute_result",
          "data": {
            "text/plain": [
              "array([3], dtype=uint8)"
            ]
          },
          "metadata": {
            "tags": []
          },
          "execution_count": 10
        }
      ]
    },
    {
      "cell_type": "code",
      "metadata": {
        "id": "7tlRzkWT1fDK",
        "colab_type": "code",
        "outputId": "b51734de-12db-4c64-e3e2-4c3988d701fb",
        "colab": {
          "base_uri": "https://localhost:8080/",
          "height": 265
        }
      },
      "source": [
        "plt.imshow(some_digit_image, cmap = mpl.cm.binary, interpolation=\"nearest\")\n",
        "plt.axis(\"off\")\n",
        "plt.show()\n",
        "\n",
        "# Just checking what actual image is there at the location which we are predicting"
      ],
      "execution_count": 11,
      "outputs": [
        {
          "output_type": "display_data",
          "data": {
            "image/png": "[encoded data removed]",
            "text/plain": [
              "<Figure size 432x288 with 1 Axes>"
            ]
          },
          "metadata": {
            "tags": []
          }
        }
      ]
    },
    {
      "cell_type": "markdown",
      "metadata": {
        "id": "ZDZc47Ce2CeM",
        "colab_type": "text"
      },
      "source": [
        "Heyyy........ Our prediction is not accurate , righr? But to See the overall accuracy of the model we should fetch a generalized mapping of the accuracy. So we will see these in followings"
      ]
    },
    {
      "cell_type": "markdown",
      "metadata": {
        "id": "hAm92P4D2kNc",
        "colab_type": "text"
      },
      "source": [
        "**Performance Measures**\n"
      ]
    },
    {
      "cell_type": "markdown",
      "metadata": {
        "id": "2LUkLs-A2vxN",
        "colab_type": "text"
      },
      "source": [
        "a.) Measuring Accuracy Using Cross-Validation.\n",
        "\n",
        "**_________**  **_________**  **_________**  **_________**  **_________**  **_________**  **_________**  **_________**  **_________**  **_________**\n",
        "\n",
        "A good way to evaluate a model is to use cross-validation"
      ]
    },
    {
      "cell_type": "code",
      "metadata": {
        "id": "KBcc8A0e1fGN",
        "colab_type": "code",
        "outputId": "dfaa44e9-313f-4240-d8f1-d14378b8a5dc",
        "colab": {
          "base_uri": "https://localhost:8080/",
          "height": 34
        }
      },
      "source": [
        "from sklearn.model_selection import cross_val_score\n",
        "\n",
        "cross_val_score(sgd_clf, X_train, y_train, cv=3, scoring=\"accuracy\")  # cv=3 means we are splitting samples in 3 folds.\n",
        "                                                                      # then making predictions and evaluating them on each fold \n",
        "                                                                      # using a model trained on the remaining folds"
      ],
      "execution_count": 12,
      "outputs": [
        {
          "output_type": "execute_result",
          "data": {
            "text/plain": [
              "array([0.87082583, 0.87089354, 0.88628294])"
            ]
          },
          "metadata": {
            "tags": []
          },
          "execution_count": 12
        }
      ]
    },
    {
      "cell_type": "markdown",
      "metadata": {
        "id": "w-VJDZr-I9X9",
        "colab_type": "text"
      },
      "source": [
        "These are the accuries on fold 1 to fold 3, we can get the mean to see average accuracy.\n",
        "\n",
        "This demonstrates why accuracy is generally not the preferred performance measure\n",
        "for classifiers, especially when you are dealing with skewed datasets (i.e., when some classes are much more frequent than others).\n",
        "\n",
        "**_________**  **_________**  **_________**  **_________**  **_________**  **_________**  **_________**  **_________**  **_________**  **_________**  **_________**  **_________**  **_________**  **_________**  **_________**  **_________**  **_________**  **_________**"
      ]
    },
    {
      "cell_type": "markdown",
      "metadata": {
        "id": "Ilh6m916JJG5",
        "colab_type": "text"
      },
      "source": [
        "b.) Confusion Matrix\n",
        "\n",
        "**_________**  **_________**  **_________**  **_________**  **_________**\n",
        "\n",
        "A much better way to evaluate the performance of a classifier is to look at the confusion matrix. The general idea is to count the number of times instances of class A are classified as class B. For example, to know the number of times the classifier confused images of 5s with 3s, you would look in the 5th row and 3rd column of the confusion matrix.\n",
        "\n",
        "To compute the confusion matrix, you first need to have a set of predictions, so they can be compared to the actual targets. You could make predictions on the test set, but let’s keep it untouched for now (remember that you want to use the test set only at the very end of your project, once you have a classifier that you are ready to launch).Instead, you can use the cross_val_predict() function:\n"
      ]
    },
    {
      "cell_type": "markdown",
      "metadata": {
        "id": "it9jgisoLl-F",
        "colab_type": "text"
      },
      "source": [
        "Instead of returning the evaluation scores, it returns the predictions made on each test fold. This means that you get a clean prediction for each instance in the training set (“clean” meaning that the prediction is made by a model\n",
        "that never saw the data during training).\n",
        "\n",
        "Now you are ready to get the confusion matrix using the confusion_matrix() function. Just pass it the target classes (y_train_5) and the predicted classes\n",
        "(pred)"
      ]
    },
    {
      "cell_type": "code",
      "metadata": {
        "id": "EKsRJxAv1fPg",
        "colab_type": "code",
        "outputId": "8c17cf87-9343-4fd0-ff05-f836d5d8cddf",
        "colab": {
          "base_uri": "https://localhost:8080/",
          "height": 85
        }
      },
      "source": [
        "y_train_5 = (y_train == 5)  #Just checking labels are 5 or not, in both training and testing data\n",
        "y_test_5  = (y_test == 5)   #and assigning them to a new variables to work on confusion matrix \n",
        "\n",
        "print(y_train_5.shape)\n",
        "print(y_test_5.shape)\n",
        "\n",
        "print(y_train_5)\n",
        "print(y_test_5)"
      ],
      "execution_count": 13,
      "outputs": [
        {
          "output_type": "stream",
          "text": [
            "(60000,)\n",
            "(10000,)\n",
            "[ True False False ...  True False False]\n",
            "[False False False ... False  True False]\n"
          ],
          "name": "stdout"
        }
      ]
    },
    {
      "cell_type": "code",
      "metadata": {
        "id": "y-S_00kzS7uH",
        "colab_type": "code",
        "colab": {}
      },
      "source": [
        "from sklearn.model_selection import cross_val_predict\n",
        "\n",
        "pred = cross_val_predict(sgd_clf, X_train, y_train_5, cv=3)"
      ],
      "execution_count": 0,
      "outputs": []
    },
    {
      "cell_type": "code",
      "metadata": {
        "id": "gYseT9711fSU",
        "colab_type": "code",
        "colab": {}
      },
      "source": [
        "from sklearn.metrics import confusion_matrix\n",
        "\n",
        "cnf_mtx=confusion_matrix(y_train_5,pred)"
      ],
      "execution_count": 0,
      "outputs": []
    },
    {
      "cell_type": "code",
      "metadata": {
        "id": "t4PrFlBL1fVg",
        "colab_type": "code",
        "outputId": "8d58fe7f-17a9-45bf-e8be-dc27fe9993a4",
        "colab": {
          "base_uri": "https://localhost:8080/",
          "height": 85
        }
      },
      "source": [
        "print(cnf_mtx.shape)\n",
        "print()\n",
        "\n",
        "cnf_mtx"
      ],
      "execution_count": 16,
      "outputs": [
        {
          "output_type": "stream",
          "text": [
            "(2, 2)\n",
            "\n"
          ],
          "name": "stdout"
        },
        {
          "output_type": "execute_result",
          "data": {
            "text/plain": [
              "array([[53892,   687],\n",
              "       [ 1891,  3530]])"
            ]
          },
          "metadata": {
            "tags": []
          },
          "execution_count": 16
        }
      ]
    },
    {
      "cell_type": "markdown",
      "metadata": {
        "id": "5XUxWpNLPssZ",
        "colab_type": "text"
      },
      "source": [
        "Each row in a confusion matrix represents an actual class, while each column represents a predicted class. The first row of this matrix considers non-5 images (the negative class): 53,892 of them were correctly classified as non-5s (they are called true negatives), while the remaining 687 were wrongly classified as 5s (false positives).\n",
        "\n",
        "The second row considers the images of 5s (the positive class): 1,891 were wrongly classified as non-5s (false negatives), while the remaining 3530 were correctly classified as 5s (true positives). A perfect classifier would have only true positives and true negatives, so its confusion matrix would have nonzero values only on its main diagonal (top left to bottom right).\n",
        "\n",
        "A perfect matrix will be like below:\n"
      ]
    },
    {
      "cell_type": "code",
      "metadata": {
        "id": "NXRSZccpPYot",
        "colab_type": "code",
        "outputId": "5e41444b-0243-4364-94ad-3148c27ad4d7",
        "colab": {
          "base_uri": "https://localhost:8080/",
          "height": 51
        }
      },
      "source": [
        "perfect=y_train_5\n",
        "\n",
        "confusion_matrix(perfect,y_train_5)"
      ],
      "execution_count": 17,
      "outputs": [
        {
          "output_type": "execute_result",
          "data": {
            "text/plain": [
              "array([[54579,     0],\n",
              "       [    0,  5421]])"
            ]
          },
          "metadata": {
            "tags": []
          },
          "execution_count": 17
        }
      ]
    },
    {
      "cell_type": "markdown",
      "metadata": {
        "id": "43xxZBA90TwJ",
        "colab_type": "text"
      },
      "source": [
        "If you are confused about the confusion matrix, Figure 3-2 may help.\n",
        "\n",
        "(https://github.com/vikash00011/BinaryClassification/blob/master/Capture3.PNG)\n",
        "\n",
        "Figure 3-2. An illustrated confusion matrix"
      ]
    },
    {
      "cell_type": "markdown",
      "metadata": {
        "id": "la5m5JwnT8R-",
        "colab_type": "text"
      },
      "source": [
        "c.) Precision and Recall\n",
        "\n",
        "**_______________**  **_______________**  **_______________**  **_______________**  **_______________**  **_______________**  **_______________**\n",
        "\n",
        "The confusion matrix gives you a lot of information, but sometimes you may prefer a more concise metric. An interesting one to look at is the accuracy of the positive predictions; this is called the **precision** of the classifier.\n",
        "\n",
        "**precision = TP/(TP+FP)**\n",
        "\n",
        "A perfect precision is to make one single positive prediction and ensure it is correct (precision = 1/1 = 100%). This would not be very useful since the classifier would ignore all but one positive instance. So precision is typically used along with another metric named **recall, also called sensitivity or true positive rate (TPR)**.\n",
        "\n",
        "**TPR = TP/(TP+FN)**."
      ]
    },
    {
      "cell_type": "code",
      "metadata": {
        "id": "WqnFDVwAPYrt",
        "colab_type": "code",
        "outputId": "74bf949e-2959-4801-967b-41300532293d",
        "colab": {
          "base_uri": "https://localhost:8080/",
          "height": 68
        }
      },
      "source": [
        "from sklearn.metrics import precision_score, recall_score\n",
        "\n",
        "print(precision_score(y_train_5,pred))\n",
        "\n",
        "print()\n",
        "\n",
        "print(recall_score(y_train_5,pred))"
      ],
      "execution_count": 18,
      "outputs": [
        {
          "output_type": "stream",
          "text": [
            "0.8370879772350012\n",
            "\n",
            "0.6511713705958311\n"
          ],
          "name": "stdout"
        }
      ]
    },
    {
      "cell_type": "markdown",
      "metadata": {
        "id": "iiGT4zdhWq_U",
        "colab_type": "text"
      },
      "source": [
        "Now your 5-detector does not look as shiny as it did when you looked at its accuracy. When it claims an image represents a 5, it is correct only 83.71% of the time. Moreover, it only detects 65.12.0% of the 5s.\n"
      ]
    },
    {
      "cell_type": "markdown",
      "metadata": {
        "id": "MJMouu1BXkj8",
        "colab_type": "text"
      },
      "source": [
        "d.) F1 Score\n",
        "\n",
        "**_______________**  **_______________**  **_______________**  **_______________**\n",
        "\n",
        "It is often convenient to combine precision and recall into a single metric called the F1 score, in particular if you need a simple way to compare two classifiers. The F1 score is the harmonic mean of precision and recall.\n",
        "\n",
        "Whereas the regular mean treats all values equally, the harmonic mean gives much more weight to low values. As a result, the classifier will only get a high F1 score if both recall and precision are high.\n",
        "\n",
        "**F1=**2/(1/precision)+(1/recall)=2*[(precision*recall)/(precision+recall)]\n",
        "                             =TP/[TP+(FN+FP/2)]\n",
        "                             \n"
      ]
    },
    {
      "cell_type": "code",
      "metadata": {
        "id": "UIw7XrIpPYvP",
        "colab_type": "code",
        "outputId": "4206d0f1-6680-423d-e62a-dccf8a3cffe5",
        "colab": {
          "base_uri": "https://localhost:8080/",
          "height": 34
        }
      },
      "source": [
        "from sklearn.metrics import f1_score\n",
        "\n",
        "f1_score(y_train_5,pred)"
      ],
      "execution_count": 19,
      "outputs": [
        {
          "output_type": "execute_result",
          "data": {
            "text/plain": [
              "0.7325171197343846"
            ]
          },
          "metadata": {
            "tags": []
          },
          "execution_count": 19
        }
      ]
    },
    {
      "cell_type": "markdown",
      "metadata": {
        "id": "P6aZTTf5ZuIQ",
        "colab_type": "text"
      },
      "source": [
        "The F1 score favors classifiers that have similar precision and recall. This is not always what you want: in some contexts you mostly care about precision, and in other contexts you really care about recall. For example, if you trained a classifier to detect videos that are safe for kids, you would probably prefer a classifier that rejects many good videos (low recall) but keeps only safe ones (high precision), rather than a classifier that has a much higher recall but lets a few really bad videos show up in your product (in such cases, you may even want to add a human pipeline to check the classifier’s video selection). On the other hand, suppose you train a classifier to detect shoplifters on surveillance images: it is probably fine if your classifier has only 30% precision as long as it has 99% recall (sure, the security guards will get a few false alerts, but almost all shoplifters will get caught).\n",
        "\n",
        "Unfortunately, you can’t have it both ways: increasing precision reduces recall, and vice versa. This is called the **precision/recall tradeoff**."
      ]
    },
    {
      "cell_type": "markdown",
      "metadata": {
        "id": "qMTOolp_t8ix",
        "colab_type": "text"
      },
      "source": [
        "**Precision/Recall Tradeoff**\n",
        "\n",
        "To understand this tradeoff, let’s look at how the SGDClassifier makes its classification decisions. For each instance, it computes a score based on a decision function, and if that score is greater than a threshold, it assigns the instance to the positive class, or else it assigns it to the negative class. Figure 3-3 shows a few digits positioned from the lowest score on the left to the highest score on the right. Suppose the decision threshold is positioned at the central arrow (between the two 5s): you will find 4 true positives (actual 5s) on the right of that threshold, and one false positive (actually a 6). Therefore, with that threshold, the precision is 80% (4 out of 5). But out of 6 actual 5s, the classifier only detects 4, so the recall is 67% (4 out of 6). Now if you raise the threshold (move it to the arrow on the right), the false positive (the 6) becomes a true negative, thereby increasing precision (up to 100% in this case), but one true positive becomes a false negative, decreasing recall down to 50%. Conversely, lowering the threshold increases recall and reduces precision.\n"
      ]
    },
    {
      "cell_type": "markdown",
      "metadata": {
        "id": "EDD-rTt0uerf",
        "colab_type": "text"
      },
      "source": [
        "(https://github.com/vikash00011/BinaryClassification/blob/master/Capture.PNG) \n",
        "\n",
        "Figure 3-3. Decision threshold and precision/recall tradeoff"
      ]
    },
    {
      "cell_type": "markdown",
      "metadata": {
        "id": "3GFwQlUY1q6y",
        "colab_type": "text"
      },
      "source": [
        "Scikit-Learn does not let you set the threshold directly, but it does give you access to the decision scores that it uses to make predictions. Instead of calling the classifier’s predict() method, you can call its decision_function() method, which returns a score for each instance, and then make predictions based on those scores using any threshold you want:"
      ]
    },
    {
      "cell_type": "code",
      "metadata": {
        "id": "E27PJLaI12tj",
        "colab_type": "code",
        "colab": {}
      },
      "source": [
        "y_scores=sgd_clf.decision_function([some_digit])"
      ],
      "execution_count": 0,
      "outputs": []
    },
    {
      "cell_type": "code",
      "metadata": {
        "id": "CSQ_gZgF120z",
        "colab_type": "code",
        "colab": {
          "base_uri": "https://localhost:8080/",
          "height": 85
        },
        "outputId": "ce888563-0d54-46e8-b524-b0b68c171590"
      },
      "source": [
        "y_scores"
      ],
      "execution_count": 21,
      "outputs": [
        {
          "output_type": "execute_result",
          "data": {
            "text/plain": [
              "array([[-31893.03095419, -34419.69069632,  -9530.63950739,\n",
              "          1823.73154031, -22320.14822878,  -1385.80478895,\n",
              "        -26188.91070951, -16147.51323997,  -4604.35491274,\n",
              "        -12050.767298  ]])"
            ]
          },
          "metadata": {
            "tags": []
          },
          "execution_count": 21
        }
      ]
    },
    {
      "cell_type": "code",
      "metadata": {
        "id": "w8uUOE5o1234",
        "colab_type": "code",
        "colab": {}
      },
      "source": [
        ""
      ],
      "execution_count": 0,
      "outputs": []
    },
    {
      "cell_type": "markdown",
      "metadata": {
        "id": "17kkuGF0oMrs",
        "colab_type": "text"
      },
      "source": [
        "e.) The ROC Curve\n",
        "\n",
        "**_________________**  **_________________**  **_________________**  **_________________**\n",
        "\n",
        "The receiver operating characteristic (ROC) curve is another common tool used with binary classifiers. It is very similar to the precision/recall curve, but instead of plotting precision versus recall, the ROC curve plots the true positive rate (another name for recall) against the false positive rate. The FPR is the ratio of negative instances that are incorrectly classified as positive. It is equal to one minus the true negative rate, which is the ratio of negative instances that are correctly classified as negative. The TNR is also called specificity. Hence the ROC curve plots sensitivity (recall) versus \n",
        "1 – secificity.\n",
        "\n",
        "To plot the ROC curve, you first need to compute the TPR and FPR for various threshold values, using the roc_curve() function:"
      ]
    }
  ]
}